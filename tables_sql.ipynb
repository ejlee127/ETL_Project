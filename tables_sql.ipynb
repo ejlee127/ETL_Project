{
 "cells": [
  {
   "cell_type": "markdown",
   "metadata": {},
   "source": [
    "# ETL project\n",
    "\n",
    "This project, for the energy datasets by states collected from\n",
    "    * [US Energy Information Administration](https://www.eia.gov/)\n",
    "    * [Data World](https://data.world/)\n",
    "does\n",
    "    * Extract, Transform and Load\n",
    "    \n",
    "to PostgreSQL database."
   ]
  },
  {
   "cell_type": "code",
   "execution_count": 1,
   "metadata": {},
   "outputs": [
    {
     "data": {
      "text/plain": [
       "True"
      ]
     },
     "execution_count": 1,
     "metadata": {},
     "output_type": "execute_result"
    }
   ],
   "source": [
    "import pandas as pd\n",
    "import psycopg2\n",
    "import numpy as np\n",
    "import os\n",
    "\n",
    "from dotenv import load_dotenv\n",
    "   \n",
    "from sqlalchemy import create_engine\n",
    "\n",
    "# load up the variables from the .env file.\n",
    "load_dotenv()"
   ]
  },
  {
   "cell_type": "markdown",
   "metadata": {},
   "source": [
    "### States Abbreviation Table"
   ]
  },
  {
   "cell_type": "code",
   "execution_count": 2,
   "metadata": {},
   "outputs": [
    {
     "data": {
      "text/html": [
       "<div>\n",
       "<style scoped>\n",
       "    .dataframe tbody tr th:only-of-type {\n",
       "        vertical-align: middle;\n",
       "    }\n",
       "\n",
       "    .dataframe tbody tr th {\n",
       "        vertical-align: top;\n",
       "    }\n",
       "\n",
       "    .dataframe thead th {\n",
       "        text-align: right;\n",
       "    }\n",
       "</style>\n",
       "<table border=\"1\" class=\"dataframe\">\n",
       "  <thead>\n",
       "    <tr style=\"text-align: right;\">\n",
       "      <th></th>\n",
       "      <th>State</th>\n",
       "      <th>Abbrev</th>\n",
       "      <th>Code</th>\n",
       "    </tr>\n",
       "  </thead>\n",
       "  <tbody>\n",
       "    <tr>\n",
       "      <th>0</th>\n",
       "      <td>Alabama</td>\n",
       "      <td>Ala.</td>\n",
       "      <td>AL</td>\n",
       "    </tr>\n",
       "    <tr>\n",
       "      <th>1</th>\n",
       "      <td>Alaska</td>\n",
       "      <td>Alaska</td>\n",
       "      <td>AK</td>\n",
       "    </tr>\n",
       "    <tr>\n",
       "      <th>2</th>\n",
       "      <td>Arizona</td>\n",
       "      <td>Ariz.</td>\n",
       "      <td>AZ</td>\n",
       "    </tr>\n",
       "    <tr>\n",
       "      <th>3</th>\n",
       "      <td>Arkansas</td>\n",
       "      <td>Ark.</td>\n",
       "      <td>AR</td>\n",
       "    </tr>\n",
       "    <tr>\n",
       "      <th>4</th>\n",
       "      <td>California</td>\n",
       "      <td>Calif.</td>\n",
       "      <td>CA</td>\n",
       "    </tr>\n",
       "  </tbody>\n",
       "</table>\n",
       "</div>"
      ],
      "text/plain": [
       "        State  Abbrev Code\n",
       "0     Alabama    Ala.   AL\n",
       "1      Alaska  Alaska   AK\n",
       "2     Arizona   Ariz.   AZ\n",
       "3    Arkansas    Ark.   AR\n",
       "4  California  Calif.   CA"
      ]
     },
     "execution_count": 2,
     "metadata": {},
     "output_type": "execute_result"
    }
   ],
   "source": [
    "# File to Load (Remember to Change These)\n",
    "file_to_load = \"Resources/StatetoAbbrev.csv\"\n",
    "states_data = pd.read_csv(file_to_load)\n",
    "states_data.head()"
   ]
  },
  {
   "cell_type": "code",
   "execution_count": 3,
   "metadata": {},
   "outputs": [
    {
     "data": {
      "text/html": [
       "<div>\n",
       "<style scoped>\n",
       "    .dataframe tbody tr th:only-of-type {\n",
       "        vertical-align: middle;\n",
       "    }\n",
       "\n",
       "    .dataframe tbody tr th {\n",
       "        vertical-align: top;\n",
       "    }\n",
       "\n",
       "    .dataframe thead th {\n",
       "        text-align: right;\n",
       "    }\n",
       "</style>\n",
       "<table border=\"1\" class=\"dataframe\">\n",
       "  <thead>\n",
       "    <tr style=\"text-align: right;\">\n",
       "      <th></th>\n",
       "      <th>State</th>\n",
       "      <th>Abbrev</th>\n",
       "      <th>Code</th>\n",
       "      <th>State_id</th>\n",
       "    </tr>\n",
       "  </thead>\n",
       "  <tbody>\n",
       "    <tr>\n",
       "      <th>0</th>\n",
       "      <td>Alabama</td>\n",
       "      <td>Ala.</td>\n",
       "      <td>AL</td>\n",
       "      <td>1</td>\n",
       "    </tr>\n",
       "    <tr>\n",
       "      <th>1</th>\n",
       "      <td>Alaska</td>\n",
       "      <td>Alaska</td>\n",
       "      <td>AK</td>\n",
       "      <td>2</td>\n",
       "    </tr>\n",
       "    <tr>\n",
       "      <th>2</th>\n",
       "      <td>Arizona</td>\n",
       "      <td>Ariz.</td>\n",
       "      <td>AZ</td>\n",
       "      <td>3</td>\n",
       "    </tr>\n",
       "    <tr>\n",
       "      <th>3</th>\n",
       "      <td>Arkansas</td>\n",
       "      <td>Ark.</td>\n",
       "      <td>AR</td>\n",
       "      <td>4</td>\n",
       "    </tr>\n",
       "    <tr>\n",
       "      <th>4</th>\n",
       "      <td>California</td>\n",
       "      <td>Calif.</td>\n",
       "      <td>CA</td>\n",
       "      <td>5</td>\n",
       "    </tr>\n",
       "  </tbody>\n",
       "</table>\n",
       "</div>"
      ],
      "text/plain": [
       "        State  Abbrev Code  State_id\n",
       "0     Alabama    Ala.   AL         1\n",
       "1      Alaska  Alaska   AK         2\n",
       "2     Arizona   Ariz.   AZ         3\n",
       "3    Arkansas    Ark.   AR         4\n",
       "4  California  Calif.   CA         5"
      ]
     },
     "execution_count": 3,
     "metadata": {},
     "output_type": "execute_result"
    }
   ],
   "source": [
    "states_data['State_id']=states_data.index+1\n",
    "states_data.head()"
   ]
  },
  {
   "cell_type": "markdown",
   "metadata": {},
   "source": [
    "### Natural Gas Production Table"
   ]
  },
  {
   "cell_type": "code",
   "execution_count": 74,
   "metadata": {},
   "outputs": [],
   "source": [
    "file_to_load = \"Resources/Natural Gas Marketed Production-StateRankings.csv\"\n",
    "\n",
    "natural_gas_production = pd.read_csv(file_to_load)\n",
    "#natural_gas_production.head()"
   ]
  },
  {
   "cell_type": "markdown",
   "metadata": {},
   "source": [
    "#### Clean the 'State' column\n",
    "\n",
    "Some rows have full state name instead of state code."
   ]
  },
  {
   "cell_type": "code",
   "execution_count": 75,
   "metadata": {},
   "outputs": [],
   "source": [
    "# Set 'State' as index in State Abb table\n",
    "state_df = states_data.set_index('State')\n",
    "\n",
    "# Changing full name to state code\n",
    "for i in natural_gas_production.index:\n",
    "    s = natural_gas_production.loc[i,'State']\n",
    "    if len(s)>2:\n",
    "        natural_gas_production.loc[i,'State'] = state_df.loc[s,'Code']"
   ]
  },
  {
   "cell_type": "markdown",
   "metadata": {},
   "source": [
    "#### Add State_id\n",
    "\n",
    "Merge the production table and State_Abb table to add State_id, and then clean up the fields."
   ]
  },
  {
   "cell_type": "code",
   "execution_count": 77,
   "metadata": {},
   "outputs": [],
   "source": [
    "naturalgas_df = pd.merge(states_data, natural_gas_production, how='outer', left_on='Code', right_on='State')\n",
    "\n",
    "naturalgas_df.drop(columns = [\"State_x\",\"State_y\",\"Code\",\"Abbrev\",\"Note: Rankings are based on the full source data values. Excludes Gulf of Mexico federal offshore production.\"], inplace = True)\n",
    "\n",
    "#naturalgas_df.head()"
   ]
  },
  {
   "cell_type": "code",
   "execution_count": 135,
   "metadata": {},
   "outputs": [
    {
     "data": {
      "text/html": [
       "<div>\n",
       "<style scoped>\n",
       "    .dataframe tbody tr th:only-of-type {\n",
       "        vertical-align: middle;\n",
       "    }\n",
       "\n",
       "    .dataframe tbody tr th {\n",
       "        vertical-align: top;\n",
       "    }\n",
       "\n",
       "    .dataframe thead th {\n",
       "        text-align: right;\n",
       "    }\n",
       "</style>\n",
       "<table border=\"1\" class=\"dataframe\">\n",
       "  <thead>\n",
       "    <tr style=\"text-align: right;\">\n",
       "      <th></th>\n",
       "      <th>State_id</th>\n",
       "      <th>Rank</th>\n",
       "      <th>Total_Gas_million_cu_ft</th>\n",
       "    </tr>\n",
       "  </thead>\n",
       "  <tbody>\n",
       "    <tr>\n",
       "      <th>0</th>\n",
       "      <td>1</td>\n",
       "      <td>16</td>\n",
       "      <td>139485</td>\n",
       "    </tr>\n",
       "    <tr>\n",
       "      <th>1</th>\n",
       "      <td>2</td>\n",
       "      <td>12</td>\n",
       "      <td>341315</td>\n",
       "    </tr>\n",
       "    <tr>\n",
       "      <th>2</th>\n",
       "      <td>3</td>\n",
       "      <td>31</td>\n",
       "      <td>46</td>\n",
       "    </tr>\n",
       "    <tr>\n",
       "      <th>3</th>\n",
       "      <td>4</td>\n",
       "      <td>11</td>\n",
       "      <td>589973</td>\n",
       "    </tr>\n",
       "    <tr>\n",
       "      <th>4</th>\n",
       "      <td>5</td>\n",
       "      <td>14</td>\n",
       "      <td>202616</td>\n",
       "    </tr>\n",
       "  </tbody>\n",
       "</table>\n",
       "</div>"
      ],
      "text/plain": [
       "   State_id  Rank Total_Gas_million_cu_ft\n",
       "0         1    16                  139485\n",
       "1         2    12                  341315\n",
       "2         3    31                      46\n",
       "3         4    11                  589973\n",
       "4         5    14                  202616"
      ]
     },
     "execution_count": 135,
     "metadata": {},
     "output_type": "execute_result"
    }
   ],
   "source": [
    "# Rename the columns\n",
    "naturalgas_df.rename(columns = {\"Natural Gas Marketed Production, million cu ft\":\"Total_Gas_million_cu_ft\"}, inplace=True)\n",
    "\n",
    "# Drop the rows with the non-available values\n",
    "naturalgas_df.dropna(inplace=True)\n",
    "\n",
    "for i in naturalgas_df.index:\n",
    "    if naturalgas_df.loc[i, \"Total_Gas_million_cu_ft\"]=='--':\n",
    "        naturalgas_df.drop([i], inplace=True)\n",
    "\n",
    "# Display the table\n",
    "naturalgas_df.head()"
   ]
  },
  {
   "cell_type": "code",
   "execution_count": 134,
   "metadata": {},
   "outputs": [
    {
     "data": {
      "text/plain": [
       "array(['139485', '341315', '46', '589973', '202616', '1831325', '788',\n",
       "       '1861', '2418', '5054', '201505', '83973', '2810636', '24',\n",
       "       '89525', '35564', '0', '43524', '433', '3', '1485142', '11798',\n",
       "       '705789', '2409153', '2946117', '499', '6210673', '442', '3538',\n",
       "       '7847102', '296810', '111476', '1799097', '1640264'], dtype=object)"
      ]
     },
     "execution_count": 134,
     "metadata": {},
     "output_type": "execute_result"
    }
   ],
   "source": []
  },
  {
   "cell_type": "markdown",
   "metadata": {},
   "source": [
    "### Energy Production Estimate Table"
   ]
  },
  {
   "cell_type": "code",
   "execution_count": 173,
   "metadata": {},
   "outputs": [],
   "source": [
    "file_to_load = \"Resources/P2.csv\"\n",
    "production_df = pd.read_csv(file_to_load)\n",
    "\n",
    "production_df.rename(columns ={\"Table P2.  Primary Energy Production Estimates in Trillion Btu, 2018 \":\"State\",\n",
    "                               \"Unnamed: 1\":\"Fossil Fuels\", \"Unnamed: 3\":\"Natural Gas\", \"Unnamed: 5\":\"Crude Oil\",\n",
    "                              \"Unnamed: 9\":\"Biofuels\", \"Unnamed: 7\":\"Nuclear Electric Power\",\"Unnamed: 11\":\"Wood and Waste\",\n",
    "                              \"Unnamed: 13\":\"Other\", \"Unnamed: 15\":\"Total\"}, inplace = True)\n",
    "\n",
    "production_df.drop(columns = ['Unnamed: 2','Unnamed: 4', 'Unnamed: 6', 'Unnamed: 8','Unnamed: 10', 'Unnamed: 12', 'Unnamed: 14',\n",
    "                             'Unnamed: 16'], inplace = True)\n",
    "\n",
    "production_df.drop([0,1,2,3], inplace = True)"
   ]
  },
  {
   "cell_type": "code",
   "execution_count": 174,
   "metadata": {},
   "outputs": [
    {
     "data": {
      "text/plain": [
       "array(['Alabama', 'Alaska', 'Arizona', 'Arkansas', 'California',\n",
       "       'Colorado', 'Connecticut', 'Delaware', 'District of Columbia',\n",
       "       'Florida', 'Georgia', 'Hawaii', 'Idaho', 'Illinois', 'Indiana',\n",
       "       'Iowa', 'Kansas', 'Kentucky', 'Louisiana', 'Maine', 'Maryland',\n",
       "       'Massachusetts', 'Michigan', 'Minnesota', 'Mississippi',\n",
       "       'Missouri', 'Montana', 'Nebraska', 'Nevada', 'New Hampshire',\n",
       "       'New Jersey', 'New Mexico', 'New York', 'North Carolina',\n",
       "       'North Dakota', 'Ohio', 'Oklahoma', 'Oregon', 'Pennsylvania',\n",
       "       'Rhode Island', 'South Carolina', 'South Dakota', 'Tennessee',\n",
       "       'Texas', 'Utah', 'Vermont', 'Virginia', 'Washington',\n",
       "       'West Virginia', 'Wisconsin', 'Wyoming', nan,\n",
       "       'Federal Offshore - Gulf of Mexico', 'Federal Offshore - Pacific',\n",
       "       nan, 'United States', nan, nan, 'a  Includes refuse recovery.',\n",
       "       'b  Marketed production.', 'c  Includes lease condensate.',\n",
       "       'd  Biomass inputs (feedstock) to the production of biofuels.',\n",
       "       'e  Wood energy production and biomass waste energy consumption.',\n",
       "       nan,\n",
       "       'Note: Totals may not equal sum of components due to independent rounding.',\n",
       "       'Sources: Data sources, estimation procedures, and assumptions are described in the documentation at',\n",
       "       'http://www.eia.gov/state/seds/seds-technical-notes-complete.php'],\n",
       "      dtype=object)"
      ]
     },
     "execution_count": 174,
     "metadata": {},
     "output_type": "execute_result"
    }
   ],
   "source": [
    "production_df['State'].values"
   ]
  },
  {
   "cell_type": "code",
   "execution_count": 175,
   "metadata": {},
   "outputs": [],
   "source": [
    "# Merge the rows only the state names exist : left(state_data) merge\n",
    "productionfinal_df = pd.merge(states_data,production_df,how='left', left_on='State', right_on='State')\n",
    "\n",
    "productionfinal_df.drop(columns=[\"Abbrev\", \"State\", \"Code\"], inplace = True)\n",
    "\n",
    "#productionfinal_df.head()"
   ]
  },
  {
   "cell_type": "code",
   "execution_count": 176,
   "metadata": {},
   "outputs": [
    {
     "name": "stdout",
     "output_type": "stream",
     "text": [
      "(51, 9)\n"
     ]
    },
    {
     "data": {
      "text/html": [
       "<div>\n",
       "<style scoped>\n",
       "    .dataframe tbody tr th:only-of-type {\n",
       "        vertical-align: middle;\n",
       "    }\n",
       "\n",
       "    .dataframe tbody tr th {\n",
       "        vertical-align: top;\n",
       "    }\n",
       "\n",
       "    .dataframe thead th {\n",
       "        text-align: right;\n",
       "    }\n",
       "</style>\n",
       "<table border=\"1\" class=\"dataframe\">\n",
       "  <thead>\n",
       "    <tr style=\"text-align: right;\">\n",
       "      <th></th>\n",
       "      <th>State_id</th>\n",
       "      <th>Fossil_Fuels</th>\n",
       "      <th>Natural_Gas</th>\n",
       "      <th>Crude_Oil</th>\n",
       "      <th>Nuclear_Electricity</th>\n",
       "      <th>Biofuels</th>\n",
       "      <th>Wood_Waste</th>\n",
       "      <th>Other</th>\n",
       "      <th>Total</th>\n",
       "    </tr>\n",
       "  </thead>\n",
       "  <tbody>\n",
       "    <tr>\n",
       "      <th>0</th>\n",
       "      <td>1</td>\n",
       "      <td>370.5</td>\n",
       "      <td>149.6</td>\n",
       "      <td>33.6</td>\n",
       "      <td>412.6</td>\n",
       "      <td>1.7</td>\n",
       "      <td>170.1</td>\n",
       "      <td>105.0</td>\n",
       "      <td>1,243.0</td>\n",
       "    </tr>\n",
       "    <tr>\n",
       "      <th>1</th>\n",
       "      <td>2</td>\n",
       "      <td>13.8</td>\n",
       "      <td>375.3</td>\n",
       "      <td>997.4</td>\n",
       "      <td>0.0</td>\n",
       "      <td>(s)</td>\n",
       "      <td>7.3</td>\n",
       "      <td>16.8</td>\n",
       "      <td>1,410.6</td>\n",
       "    </tr>\n",
       "    <tr>\n",
       "      <th>2</th>\n",
       "      <td>3</td>\n",
       "      <td>140.8</td>\n",
       "      <td>(s)</td>\n",
       "      <td>0.1</td>\n",
       "      <td>325.1</td>\n",
       "      <td>6.8</td>\n",
       "      <td>8.7</td>\n",
       "      <td>139.5</td>\n",
       "      <td>621.0</td>\n",
       "    </tr>\n",
       "    <tr>\n",
       "      <th>3</th>\n",
       "      <td>4</td>\n",
       "      <td>0.0</td>\n",
       "      <td>600.4</td>\n",
       "      <td>28.6</td>\n",
       "      <td>133.0</td>\n",
       "      <td>9.5</td>\n",
       "      <td>85.2</td>\n",
       "      <td>30.3</td>\n",
       "      <td>887.1</td>\n",
       "    </tr>\n",
       "    <tr>\n",
       "      <th>4</th>\n",
       "      <td>5</td>\n",
       "      <td>0.0</td>\n",
       "      <td>228.9</td>\n",
       "      <td>965.3</td>\n",
       "      <td>190.4</td>\n",
       "      <td>35.5</td>\n",
       "      <td>130.5</td>\n",
       "      <td>857.6</td>\n",
       "      <td>2,408.2</td>\n",
       "    </tr>\n",
       "  </tbody>\n",
       "</table>\n",
       "</div>"
      ],
      "text/plain": [
       "   State_id Fossil_Fuels Natural_Gas Crude_Oil Nuclear_Electricity Biofuels  \\\n",
       "0         1        370.5       149.6      33.6               412.6      1.7   \n",
       "1         2         13.8       375.3     997.4                 0.0      (s)   \n",
       "2         3        140.8         (s)       0.1               325.1      6.8   \n",
       "3         4          0.0       600.4      28.6               133.0      9.5   \n",
       "4         5          0.0       228.9     965.3               190.4     35.5   \n",
       "\n",
       "  Wood_Waste  Other    Total  \n",
       "0      170.1  105.0  1,243.0  \n",
       "1        7.3   16.8  1,410.6  \n",
       "2        8.7  139.5    621.0  \n",
       "3       85.2   30.3    887.1  \n",
       "4      130.5  857.6  2,408.2  "
      ]
     },
     "execution_count": 176,
     "metadata": {},
     "output_type": "execute_result"
    }
   ],
   "source": [
    "# Rename the column names\n",
    "productionfinal_df.rename(\n",
    "    columns={\n",
    "        'Fossil Fuels' : 'Fossil_Fuels',\n",
    "        'Natural Gas' : 'Natural_Gas',\n",
    "        'Crude Oil' : 'Crude_Oil',\n",
    "        'Nuclear Electric Power' : 'Nuclear_Electricity',\n",
    "        'Wood and Waste' : 'Wood_Waste'\n",
    "    }, inplace=True)\n",
    "\n",
    "\n",
    "productionfinal_df.dropna(inplace=True)\n",
    "print(productionfinal_df.shape)\n",
    "productionfinal_df.head()"
   ]
  },
  {
   "cell_type": "code",
   "execution_count": 172,
   "metadata": {},
   "outputs": [
    {
     "data": {
      "text/html": [
       "<div>\n",
       "<style scoped>\n",
       "    .dataframe tbody tr th:only-of-type {\n",
       "        vertical-align: middle;\n",
       "    }\n",
       "\n",
       "    .dataframe tbody tr th {\n",
       "        vertical-align: top;\n",
       "    }\n",
       "\n",
       "    .dataframe thead th {\n",
       "        text-align: right;\n",
       "    }\n",
       "</style>\n",
       "<table border=\"1\" class=\"dataframe\">\n",
       "  <thead>\n",
       "    <tr style=\"text-align: right;\">\n",
       "      <th></th>\n",
       "      <th>State_id</th>\n",
       "      <th>Fossil_Fuels</th>\n",
       "      <th>Natural_Gas</th>\n",
       "      <th>Crude_Oil</th>\n",
       "      <th>Nuclear_Electricity</th>\n",
       "      <th>Biofuels</th>\n",
       "      <th>Wood_Waste</th>\n",
       "      <th>Other</th>\n",
       "      <th>Total</th>\n",
       "    </tr>\n",
       "  </thead>\n",
       "  <tbody>\n",
       "    <tr>\n",
       "      <th>3</th>\n",
       "      <td>4</td>\n",
       "      <td>0.0</td>\n",
       "      <td>600.4</td>\n",
       "      <td>28.6</td>\n",
       "      <td>133.0</td>\n",
       "      <td>9.5</td>\n",
       "      <td>85.2</td>\n",
       "      <td>30.3</td>\n",
       "      <td>887.1</td>\n",
       "    </tr>\n",
       "    <tr>\n",
       "      <th>6</th>\n",
       "      <td>7</td>\n",
       "      <td>0.0</td>\n",
       "      <td>0.0</td>\n",
       "      <td>0.0</td>\n",
       "      <td>176.5</td>\n",
       "      <td>2.3</td>\n",
       "      <td>24.3</td>\n",
       "      <td>11.7</td>\n",
       "      <td>214.7</td>\n",
       "    </tr>\n",
       "    <tr>\n",
       "      <th>7</th>\n",
       "      <td>8</td>\n",
       "      <td>0.0</td>\n",
       "      <td>0.0</td>\n",
       "      <td>0.0</td>\n",
       "      <td>0.0</td>\n",
       "      <td>0.0</td>\n",
       "      <td>1.4</td>\n",
       "      <td>2.0</td>\n",
       "      <td>3.4</td>\n",
       "    </tr>\n",
       "    <tr>\n",
       "      <th>8</th>\n",
       "      <td>9</td>\n",
       "      <td>0.0</td>\n",
       "      <td>0.0</td>\n",
       "      <td>0.0</td>\n",
       "      <td>0.0</td>\n",
       "      <td>0.0</td>\n",
       "      <td>0.9</td>\n",
       "      <td>0.7</td>\n",
       "      <td>1.6</td>\n",
       "    </tr>\n",
       "    <tr>\n",
       "      <th>9</th>\n",
       "      <td>10</td>\n",
       "      <td>0.0</td>\n",
       "      <td>1.1</td>\n",
       "      <td>10.5</td>\n",
       "      <td>306.5</td>\n",
       "      <td>1.8</td>\n",
       "      <td>181.9</td>\n",
       "      <td>65.7</td>\n",
       "      <td>567.5</td>\n",
       "    </tr>\n",
       "  </tbody>\n",
       "</table>\n",
       "</div>"
      ],
      "text/plain": [
       "   State_id Fossil_Fuels Natural_Gas Crude_Oil Nuclear_Electricity Biofuels  \\\n",
       "3         4          0.0       600.4      28.6               133.0      9.5   \n",
       "6         7          0.0         0.0       0.0               176.5      2.3   \n",
       "7         8          0.0         0.0       0.0                 0.0      0.0   \n",
       "8         9          0.0         0.0       0.0                 0.0      0.0   \n",
       "9        10          0.0         1.1      10.5               306.5      1.8   \n",
       "\n",
       "  Wood_Waste Other  Total  \n",
       "3       85.2  30.3  887.1  \n",
       "6       24.3  11.7  214.7  \n",
       "7        1.4   2.0    3.4  \n",
       "8        0.9   0.7    1.6  \n",
       "9      181.9  65.7  567.5  "
      ]
     },
     "execution_count": 172,
     "metadata": {},
     "output_type": "execute_result"
    }
   ],
   "source": [
    "for i in productionfinal_df.index:\n",
    "    for cl in productionfinal_df.columns[1:]:\n",
    "        #print(cl)\n",
    "        if productionfinal_df.loc[i,cl].replace('.','').isnumeric()==False:\n",
    "            productionfinal_df.drop([i], inplace=True)\n",
    "            break\n",
    "productionfinal_df.head()"
   ]
  },
  {
   "cell_type": "markdown",
   "metadata": {},
   "source": [
    "### Renewable Potential energy"
   ]
  },
  {
   "cell_type": "code",
   "execution_count": 179,
   "metadata": {},
   "outputs": [
    {
     "data": {
      "text/plain": [
       "Index(['Unnamed: 0', 'urbanUtilityScalePV_GWh', 'urbanUtilityScalePV_GW',\n",
       "       'urbanUtilityScalePV_km2', 'ruralUtilityScalePV_GWh',\n",
       "       'ruralUtilityScalePV_GW', 'ruralUtilityScalePV_km2', 'rooftopPV_GWh',\n",
       "       'rooftopPV_GW', 'CSP_GWh', 'CSP_GW', 'CSP_km2', 'onshoreWind_GWh',\n",
       "       'onshoreWind_GW', 'onshoreWind_km2', 'offshoreWind_GWh',\n",
       "       'offshoreWind_GW', 'offshoreWind_km2', 'biopowerSolid_GWh',\n",
       "       'biopowerSolid_GW', 'biopowerSolid_BDT', 'biopowerGaseous_GWh',\n",
       "       'biopowerGaseous_GW', 'biopowerGaseous_Tonnes-CH4',\n",
       "       'geothermalHydrothermal_GWh', 'geothermalHydrothermal_GW',\n",
       "       'EGSGeothermal_GWh', 'EGSGeothermal_GW', 'hydropower_GWh',\n",
       "       'hydropower_GW', 'hydropower_countOfSites'],\n",
       "      dtype='object')"
      ]
     },
     "execution_count": 179,
     "metadata": {},
     "output_type": "execute_result"
    }
   ],
   "source": [
    "# File to Load (Remember to Change These)\n",
    "file_to_load = \"Resources/usretechnicalpotential.csv\"\n",
    "\n",
    "# Read Renewable energy potential file and store into Pandas data frame\n",
    "renewable_energy_data = pd.read_csv(file_to_load)\n",
    "renewable_energy_data.columns"
   ]
  },
  {
   "cell_type": "code",
   "execution_count": 180,
   "metadata": {},
   "outputs": [],
   "source": [
    "# Rename unnamed column as State\n",
    "renewable_energy_data.rename(columns={'Unnamed: 0' : 'State'}, inplace=True)\n",
    "\n",
    "# Select columns\n",
    "renewable_potential = renewable_energy_data[[\n",
    "                        'State',\n",
    "                        'urbanUtilityScalePV_GWh', 'ruralUtilityScalePV_GWh',\n",
    "                        'rooftopPV_GWh', 'CSP_GWh',\n",
    "                        'onshoreWind_GWh', 'offshoreWind_GWh',                        \n",
    "                        'biopowerSolid_GWh', 'biopowerGaseous_GWh',\n",
    "                        'geothermalHydrothermal_GWh',\n",
    "                        'EGSGeothermal_GWh',\n",
    "                        'hydropower_GWh']]\n",
    "#renewable_potential.head()"
   ]
  },
  {
   "cell_type": "code",
   "execution_count": 181,
   "metadata": {
    "scrolled": true
   },
   "outputs": [],
   "source": [
    "# To set State_id, merge this table with State Abb table\n",
    "combined_df = pd.merge(states_data,renewable_potential,how='outer', on='State')\n",
    "#combined_df.head()"
   ]
  },
  {
   "cell_type": "code",
   "execution_count": 182,
   "metadata": {},
   "outputs": [
    {
     "data": {
      "text/html": [
       "<div>\n",
       "<style scoped>\n",
       "    .dataframe tbody tr th:only-of-type {\n",
       "        vertical-align: middle;\n",
       "    }\n",
       "\n",
       "    .dataframe tbody tr th {\n",
       "        vertical-align: top;\n",
       "    }\n",
       "\n",
       "    .dataframe thead th {\n",
       "        text-align: right;\n",
       "    }\n",
       "</style>\n",
       "<table border=\"1\" class=\"dataframe\">\n",
       "  <thead>\n",
       "    <tr style=\"text-align: right;\">\n",
       "      <th></th>\n",
       "      <th>State_id</th>\n",
       "      <th>urbanUtilityScalePV_GWh</th>\n",
       "      <th>ruralUtilityScalePV_GWh</th>\n",
       "      <th>rooftopPV_GWh</th>\n",
       "      <th>CSP_GWh</th>\n",
       "      <th>onshoreWind_GWh</th>\n",
       "      <th>offshoreWind_GWh</th>\n",
       "      <th>biopowerSolid_GWh</th>\n",
       "      <th>biopowerGaseous_GWh</th>\n",
       "      <th>geothermalHydrothermal_GWh</th>\n",
       "      <th>EGSGeothermal_GWh</th>\n",
       "      <th>hydropower_GWh</th>\n",
       "    </tr>\n",
       "  </thead>\n",
       "  <tbody>\n",
       "    <tr>\n",
       "      <th>0</th>\n",
       "      <td>1</td>\n",
       "      <td>35850</td>\n",
       "      <td>3706838</td>\n",
       "      <td>15475.0</td>\n",
       "      <td>0</td>\n",
       "      <td>283</td>\n",
       "      <td>0.0</td>\n",
       "      <td>11193</td>\n",
       "      <td>1533</td>\n",
       "      <td>0</td>\n",
       "      <td>535489.0</td>\n",
       "      <td>4102</td>\n",
       "    </tr>\n",
       "    <tr>\n",
       "      <th>4</th>\n",
       "      <td>5</td>\n",
       "      <td>246008</td>\n",
       "      <td>8855917</td>\n",
       "      <td>106411.0</td>\n",
       "      <td>8490916</td>\n",
       "      <td>89862</td>\n",
       "      <td>2662579.0</td>\n",
       "      <td>12408</td>\n",
       "      <td>15510</td>\n",
       "      <td>130921</td>\n",
       "      <td>1344179.0</td>\n",
       "      <td>30023</td>\n",
       "    </tr>\n",
       "    <tr>\n",
       "      <th>6</th>\n",
       "      <td>7</td>\n",
       "      <td>7716</td>\n",
       "      <td>19627</td>\n",
       "      <td>6616.0</td>\n",
       "      <td>0</td>\n",
       "      <td>61</td>\n",
       "      <td>26545.0</td>\n",
       "      <td>494</td>\n",
       "      <td>414</td>\n",
       "      <td>0</td>\n",
       "      <td>56078.0</td>\n",
       "      <td>922</td>\n",
       "    </tr>\n",
       "    <tr>\n",
       "      <th>7</th>\n",
       "      <td>8</td>\n",
       "      <td>14856</td>\n",
       "      <td>272332</td>\n",
       "      <td>2185.0</td>\n",
       "      <td>0</td>\n",
       "      <td>21</td>\n",
       "      <td>60654.0</td>\n",
       "      <td>512</td>\n",
       "      <td>385</td>\n",
       "      <td>0</td>\n",
       "      <td>22813.0</td>\n",
       "      <td>30</td>\n",
       "    </tr>\n",
       "    <tr>\n",
       "      <th>9</th>\n",
       "      <td>10</td>\n",
       "      <td>72787</td>\n",
       "      <td>5137346</td>\n",
       "      <td>63986.0</td>\n",
       "      <td>358</td>\n",
       "      <td>0</td>\n",
       "      <td>34684.0</td>\n",
       "      <td>9664</td>\n",
       "      <td>3693</td>\n",
       "      <td>0</td>\n",
       "      <td>374161.0</td>\n",
       "      <td>682</td>\n",
       "    </tr>\n",
       "  </tbody>\n",
       "</table>\n",
       "</div>"
      ],
      "text/plain": [
       "   State_id  urbanUtilityScalePV_GWh  ruralUtilityScalePV_GWh  rooftopPV_GWh  \\\n",
       "0         1                    35850                  3706838        15475.0   \n",
       "4         5                   246008                  8855917       106411.0   \n",
       "6         7                     7716                    19627         6616.0   \n",
       "7         8                    14856                   272332         2185.0   \n",
       "9        10                    72787                  5137346        63986.0   \n",
       "\n",
       "   CSP_GWh  onshoreWind_GWh  offshoreWind_GWh  biopowerSolid_GWh  \\\n",
       "0        0              283               0.0              11193   \n",
       "4  8490916            89862         2662579.0              12408   \n",
       "6        0               61           26545.0                494   \n",
       "7        0               21           60654.0                512   \n",
       "9      358                0           34684.0               9664   \n",
       "\n",
       "   biopowerGaseous_GWh  geothermalHydrothermal_GWh  EGSGeothermal_GWh  \\\n",
       "0                 1533                           0           535489.0   \n",
       "4                15510                      130921          1344179.0   \n",
       "6                  414                           0            56078.0   \n",
       "7                  385                           0            22813.0   \n",
       "9                 3693                           0           374161.0   \n",
       "\n",
       "   hydropower_GWh  \n",
       "0            4102  \n",
       "4           30023  \n",
       "6             922  \n",
       "7              30  \n",
       "9             682  "
      ]
     },
     "execution_count": 182,
     "metadata": {},
     "output_type": "execute_result"
    }
   ],
   "source": [
    "renewable_df = combined_df.drop(columns=['State', 'Abbrev', 'Code'])\n",
    "#renewable_df.set_index('State_id', inplace=True)\n",
    "\n",
    "renewable_df.dropna(inplace=True)\n",
    "renewable_df[\"Total\"] = renewable_df[].iloc[]\n",
    "renewable_df.head()"
   ]
  },
  {
   "cell_type": "code",
   "execution_count": 258,
   "metadata": {},
   "outputs": [
    {
     "ename": "SyntaxError",
     "evalue": "invalid syntax (<ipython-input-258-ee63f971ba85>, line 1)",
     "output_type": "error",
     "traceback": [
      "\u001b[0;36m  File \u001b[0;32m\"<ipython-input-258-ee63f971ba85>\"\u001b[0;36m, line \u001b[0;32m1\u001b[0m\n\u001b[0;31m    renewable_df.iloc[:,[1:]].head()\u001b[0m\n\u001b[0m                          ^\u001b[0m\n\u001b[0;31mSyntaxError\u001b[0m\u001b[0;31m:\u001b[0m invalid syntax\n"
     ]
    }
   ],
   "source": [
    "renewable_df.iloc[:,[1:]].head()"
   ]
  },
  {
   "cell_type": "markdown",
   "metadata": {},
   "source": [
    "### Electricity Production Table"
   ]
  },
  {
   "cell_type": "code",
   "execution_count": 203,
   "metadata": {},
   "outputs": [],
   "source": [
    "# File to Load (Remember to Change These)\n",
    "file_to_load = \"Resources/Total Net Electricity Generation-StateRankings.csv\"\n",
    "\n",
    "# Read Renewable energy potential file and store into Pandas data frame\n",
    "total_electricity_data = pd.read_csv(file_to_load)\n",
    "#total_electricity_data.head()"
   ]
  },
  {
   "cell_type": "code",
   "execution_count": 204,
   "metadata": {},
   "outputs": [],
   "source": [
    "total_electricity = total_electricity_data.drop(columns='Note: Rankings are based on the full source data values.')\n",
    "total_electricity.rename(columns={'Total Net Electricity Generation, thousand MWh': 'Total_Net_GWh'}, inplace=True)\n",
    "#total_electricity.head()"
   ]
  },
  {
   "cell_type": "code",
   "execution_count": 205,
   "metadata": {},
   "outputs": [],
   "source": [
    "combined_df = pd.merge(states_data,total_electricity,how='outer', left_on='Code', right_on='State')\n",
    "#combined_df.head()"
   ]
  },
  {
   "cell_type": "code",
   "execution_count": 207,
   "metadata": {},
   "outputs": [
    {
     "data": {
      "text/html": [
       "<div>\n",
       "<style scoped>\n",
       "    .dataframe tbody tr th:only-of-type {\n",
       "        vertical-align: middle;\n",
       "    }\n",
       "\n",
       "    .dataframe tbody tr th {\n",
       "        vertical-align: top;\n",
       "    }\n",
       "\n",
       "    .dataframe thead th {\n",
       "        text-align: right;\n",
       "    }\n",
       "</style>\n",
       "<table border=\"1\" class=\"dataframe\">\n",
       "  <thead>\n",
       "    <tr style=\"text-align: right;\">\n",
       "      <th></th>\n",
       "      <th>State_id</th>\n",
       "      <th>Rank</th>\n",
       "      <th>Total_Net_GWh</th>\n",
       "    </tr>\n",
       "  </thead>\n",
       "  <tbody>\n",
       "    <tr>\n",
       "      <th>0</th>\n",
       "      <td>1</td>\n",
       "      <td>7</td>\n",
       "      <td>10575</td>\n",
       "    </tr>\n",
       "    <tr>\n",
       "      <th>1</th>\n",
       "      <td>2</td>\n",
       "      <td>48</td>\n",
       "      <td>476</td>\n",
       "    </tr>\n",
       "    <tr>\n",
       "      <th>2</th>\n",
       "      <td>3</td>\n",
       "      <td>10</td>\n",
       "      <td>9350</td>\n",
       "    </tr>\n",
       "    <tr>\n",
       "      <th>3</th>\n",
       "      <td>4</td>\n",
       "      <td>31</td>\n",
       "      <td>3532</td>\n",
       "    </tr>\n",
       "    <tr>\n",
       "      <th>4</th>\n",
       "      <td>5</td>\n",
       "      <td>4</td>\n",
       "      <td>15465</td>\n",
       "    </tr>\n",
       "  </tbody>\n",
       "</table>\n",
       "</div>"
      ],
      "text/plain": [
       "   State_id  Rank  Total_Net_GWh\n",
       "0         1     7          10575\n",
       "1         2    48            476\n",
       "2         3    10           9350\n",
       "3         4    31           3532\n",
       "4         5     4          15465"
      ]
     },
     "execution_count": 207,
     "metadata": {},
     "output_type": "execute_result"
    }
   ],
   "source": [
    "total_electricity_df = combined_df[['State_id', 'Rank', 'Total_Net_GWh']].copy()\n",
    "#total_electricity_df.set_index('State_id', inplace=True)\n",
    "total_electricity_df.dropna(inplace=True)\n",
    "total_electricity_df.head()"
   ]
  },
  {
   "cell_type": "markdown",
   "metadata": {},
   "source": [
    "### Coal and Crude Oil Produtcion Table"
   ]
  },
  {
   "cell_type": "code",
   "execution_count": 187,
   "metadata": {},
   "outputs": [],
   "source": [
    "# File to Load (Remember to Change These)\n",
    "file_to_load = \"Resources/Coal Production-StateRankings.csv\"\n",
    "Coal_Production = pd.read_csv(file_to_load)\n",
    "#Coal_Production.head()"
   ]
  },
  {
   "cell_type": "code",
   "execution_count": 188,
   "metadata": {},
   "outputs": [],
   "source": [
    "Coal_Production.drop(columns=[\"Note: Rankings are based on the full source data values.\"],inplace=True)\n",
    "#Coal_Production.head()"
   ]
  },
  {
   "cell_type": "code",
   "execution_count": 189,
   "metadata": {},
   "outputs": [],
   "source": [
    "Coal_combined_df = pd.merge(states_data,Coal_Production,how='inner', left_on='Code', right_on='State')\n",
    "#Coal_combined_df.head()"
   ]
  },
  {
   "cell_type": "code",
   "execution_count": 190,
   "metadata": {},
   "outputs": [
    {
     "data": {
      "text/html": [
       "<div>\n",
       "<style scoped>\n",
       "    .dataframe tbody tr th:only-of-type {\n",
       "        vertical-align: middle;\n",
       "    }\n",
       "\n",
       "    .dataframe tbody tr th {\n",
       "        vertical-align: top;\n",
       "    }\n",
       "\n",
       "    .dataframe thead th {\n",
       "        text-align: right;\n",
       "    }\n",
       "</style>\n",
       "<table border=\"1\" class=\"dataframe\">\n",
       "  <thead>\n",
       "    <tr style=\"text-align: right;\">\n",
       "      <th></th>\n",
       "      <th>State_id</th>\n",
       "      <th>Rank</th>\n",
       "      <th>Total_Coal_thousand_short_tons</th>\n",
       "    </tr>\n",
       "  </thead>\n",
       "  <tbody>\n",
       "    <tr>\n",
       "      <th>0</th>\n",
       "      <td>1</td>\n",
       "      <td>10</td>\n",
       "      <td>14783</td>\n",
       "    </tr>\n",
       "    <tr>\n",
       "      <th>1</th>\n",
       "      <td>2</td>\n",
       "      <td>20</td>\n",
       "      <td>902</td>\n",
       "    </tr>\n",
       "    <tr>\n",
       "      <th>2</th>\n",
       "      <td>3</td>\n",
       "      <td>16</td>\n",
       "      <td>6550</td>\n",
       "    </tr>\n",
       "    <tr>\n",
       "      <th>3</th>\n",
       "      <td>6</td>\n",
       "      <td>11</td>\n",
       "      <td>14026</td>\n",
       "    </tr>\n",
       "    <tr>\n",
       "      <th>4</th>\n",
       "      <td>14</td>\n",
       "      <td>4</td>\n",
       "      <td>49563</td>\n",
       "    </tr>\n",
       "  </tbody>\n",
       "</table>\n",
       "</div>"
      ],
      "text/plain": [
       "   State_id  Rank Total_Coal_thousand_short_tons\n",
       "0         1    10                          14783\n",
       "1         2    20                            902\n",
       "2         3    16                           6550\n",
       "3         6    11                          14026\n",
       "4        14     4                          49563"
      ]
     },
     "execution_count": 190,
     "metadata": {},
     "output_type": "execute_result"
    }
   ],
   "source": [
    "Coal_combined_df.drop(columns=[\"State_x\", \"State_y\", \"Abbrev\", \"Code\"],inplace=True)\n",
    "\n",
    "Coal_combined_df.rename(columns={\"Coal Production, thousand short tons\":\"Total_Coal_thousand_short_tons\"}, inplace=True)\n",
    "\n",
    "Coal_combined_df.dropna(inplace=True)\n",
    "\n",
    "Coal_combined_df.head()"
   ]
  },
  {
   "cell_type": "markdown",
   "metadata": {},
   "source": [
    "### Crude Oil Production Table"
   ]
  },
  {
   "cell_type": "code",
   "execution_count": 191,
   "metadata": {},
   "outputs": [],
   "source": [
    "# File to Load (Remember to Change These)\n",
    "file_to_load = \"Resources/Crude Oil Production-StateRankings.csv\"\n",
    "CrudeOil_Production = pd.read_csv(file_to_load)\n",
    "#CrudeOil_Production.head()"
   ]
  },
  {
   "cell_type": "code",
   "execution_count": 192,
   "metadata": {},
   "outputs": [],
   "source": [
    "CrudeOil_Production.drop(columns=[\"Note: Rankings are based on the full source data values. Excludes federal offshore production.\"],inplace=True)\n",
    "#CrudeOil_Production.head()"
   ]
  },
  {
   "cell_type": "code",
   "execution_count": 193,
   "metadata": {},
   "outputs": [],
   "source": [
    "Crude_combined_df = pd.merge(states_data,CrudeOil_Production,how='inner', left_on='Code', right_on='State')\n",
    "#Crude_combined_df.head()"
   ]
  },
  {
   "cell_type": "code",
   "execution_count": 194,
   "metadata": {},
   "outputs": [
    {
     "data": {
      "text/html": [
       "<div>\n",
       "<style scoped>\n",
       "    .dataframe tbody tr th:only-of-type {\n",
       "        vertical-align: middle;\n",
       "    }\n",
       "\n",
       "    .dataframe tbody tr th {\n",
       "        vertical-align: top;\n",
       "    }\n",
       "\n",
       "    .dataframe thead th {\n",
       "        text-align: right;\n",
       "    }\n",
       "</style>\n",
       "<table border=\"1\" class=\"dataframe\">\n",
       "  <thead>\n",
       "    <tr style=\"text-align: right;\">\n",
       "      <th></th>\n",
       "      <th>State_id</th>\n",
       "      <th>Rank</th>\n",
       "      <th>Total_Oil_thousand_barrels_per_day</th>\n",
       "    </tr>\n",
       "  </thead>\n",
       "  <tbody>\n",
       "    <tr>\n",
       "      <th>0</th>\n",
       "      <td>1</td>\n",
       "      <td>20</td>\n",
       "      <td>6</td>\n",
       "    </tr>\n",
       "    <tr>\n",
       "      <th>1</th>\n",
       "      <td>2</td>\n",
       "      <td>5</td>\n",
       "      <td>404</td>\n",
       "    </tr>\n",
       "    <tr>\n",
       "      <th>2</th>\n",
       "      <td>3</td>\n",
       "      <td>31</td>\n",
       "      <td>0</td>\n",
       "    </tr>\n",
       "    <tr>\n",
       "      <th>3</th>\n",
       "      <td>4</td>\n",
       "      <td>18</td>\n",
       "      <td>10</td>\n",
       "    </tr>\n",
       "    <tr>\n",
       "      <th>4</th>\n",
       "      <td>5</td>\n",
       "      <td>6</td>\n",
       "      <td>392</td>\n",
       "    </tr>\n",
       "  </tbody>\n",
       "</table>\n",
       "</div>"
      ],
      "text/plain": [
       "   State_id  Rank Total_Oil_thousand_barrels_per_day\n",
       "0         1    20                                  6\n",
       "1         2     5                                404\n",
       "2         3    31                                  0\n",
       "3         4    18                                 10\n",
       "4         5     6                                392"
      ]
     },
     "execution_count": 194,
     "metadata": {},
     "output_type": "execute_result"
    }
   ],
   "source": [
    "Crude_combined_df.drop(columns=[\"State_x\", \"State_y\", \"Abbrev\", \"Code\"],inplace=True)\n",
    "\n",
    "Crude_combined_df.rename(\n",
    "    columns={\"Crude Oil Production, thousand barrels per day\":\"Total_Oil_thousand_barrels_per_day\"}, \n",
    "    inplace=True)\n",
    "\n",
    "Crude_combined_df.dropna(inplace=True)\n",
    "Crude_combined_df.head()"
   ]
  },
  {
   "cell_type": "markdown",
   "metadata": {},
   "source": [
    "### Total Energy Consumed Table"
   ]
  },
  {
   "cell_type": "code",
   "execution_count": 195,
   "metadata": {},
   "outputs": [],
   "source": [
    "# Load up the CSV file for energy consumption\n",
    "file_to_load = \"Resources/Total Energy Consumed per Capita-StateRankings.csv\"\n",
    "\n",
    "# Read Renewable energy potential file and store into Pandas data frame\n",
    "Totalenergyconsumed = pd.read_csv(file_to_load)\n",
    "\n",
    "#Totalenergyconsumed.head()"
   ]
  },
  {
   "cell_type": "code",
   "execution_count": 196,
   "metadata": {},
   "outputs": [],
   "source": [
    "# drop the last column by only pulling over the first 3\n",
    "Totalenergyconsumed = Totalenergyconsumed[['Rank', 'State', 'Total Energy Consumed per Capita, million Btu']]\n",
    "\n",
    "# Do an inner join to make sure we only have complete data and pull in the state_id.  This is done comparing the code field \n",
    "# the States data table and the State field from the main table.  This will allow all the tables to have the same access State_id \n",
    "# versus either complete state name or the state abbreviation.\n",
    "Totalenergycon_clean = pd.merge(Totalenergyconsumed, states_data,how='inner',left_on='State', right_on='Code')\n",
    "\n",
    "# Drop the extra columns from the merge and only keep the state_id.\n",
    "Totalenergycon_clean = Totalenergycon_clean[['State_id','Rank','Total Energy Consumed per Capita, million Btu']]\n"
   ]
  },
  {
   "cell_type": "code",
   "execution_count": 197,
   "metadata": {},
   "outputs": [
    {
     "data": {
      "text/html": [
       "<div>\n",
       "<style scoped>\n",
       "    .dataframe tbody tr th:only-of-type {\n",
       "        vertical-align: middle;\n",
       "    }\n",
       "\n",
       "    .dataframe tbody tr th {\n",
       "        vertical-align: top;\n",
       "    }\n",
       "\n",
       "    .dataframe thead th {\n",
       "        text-align: right;\n",
       "    }\n",
       "</style>\n",
       "<table border=\"1\" class=\"dataframe\">\n",
       "  <thead>\n",
       "    <tr style=\"text-align: right;\">\n",
       "      <th></th>\n",
       "      <th>State_id</th>\n",
       "      <th>Rank</th>\n",
       "      <th>Total_Consumed_million_Btu</th>\n",
       "    </tr>\n",
       "  </thead>\n",
       "  <tbody>\n",
       "    <tr>\n",
       "      <th>0</th>\n",
       "      <td>51</td>\n",
       "      <td>1</td>\n",
       "      <td>967</td>\n",
       "    </tr>\n",
       "    <tr>\n",
       "      <th>1</th>\n",
       "      <td>19</td>\n",
       "      <td>2</td>\n",
       "      <td>945</td>\n",
       "    </tr>\n",
       "    <tr>\n",
       "      <th>2</th>\n",
       "      <td>35</td>\n",
       "      <td>3</td>\n",
       "      <td>872</td>\n",
       "    </tr>\n",
       "    <tr>\n",
       "      <th>3</th>\n",
       "      <td>2</td>\n",
       "      <td>4</td>\n",
       "      <td>830</td>\n",
       "    </tr>\n",
       "    <tr>\n",
       "      <th>4</th>\n",
       "      <td>16</td>\n",
       "      <td>5</td>\n",
       "      <td>513</td>\n",
       "    </tr>\n",
       "  </tbody>\n",
       "</table>\n",
       "</div>"
      ],
      "text/plain": [
       "   State_id  Rank  Total_Consumed_million_Btu\n",
       "0        51     1                         967\n",
       "1        19     2                         945\n",
       "2        35     3                         872\n",
       "3         2     4                         830\n",
       "4        16     5                         513"
      ]
     },
     "execution_count": 197,
     "metadata": {},
     "output_type": "execute_result"
    }
   ],
   "source": [
    "# Rename the columns\n",
    "Totalenergycon_clean.rename(\n",
    "        columns={\"Total Energy Consumed per Capita, million Btu\":\"Total_Consumed_million_Btu\"},\n",
    "        inplace=True)\n",
    "\n",
    "Totalenergycon_clean.dropna(inplace=True)\n",
    "\n",
    "#display the final table.\n",
    "Totalenergycon_clean.head()"
   ]
  },
  {
   "cell_type": "markdown",
   "metadata": {},
   "source": [
    "### Total Energy Production Table"
   ]
  },
  {
   "cell_type": "code",
   "execution_count": 198,
   "metadata": {},
   "outputs": [],
   "source": [
    "# Load up the CSV file for energy production\n",
    "file_to_load = \"Resources/Total Energy Production-StateRankings.csv\"\n",
    "\n",
    "# Read Renewable energy potential file and store into Pandas data frame\n",
    "Totalenergyproduction = pd.read_csv(file_to_load)\n",
    "#Totalenergyproduction.head()"
   ]
  },
  {
   "cell_type": "code",
   "execution_count": 199,
   "metadata": {},
   "outputs": [],
   "source": [
    "# drop the last column by only pulling over the first 3\n",
    "Totalenergyproduction = Totalenergyproduction[['Rank', 'State', 'Total Energy Production, trillion Btu']]\n",
    "\n",
    "# Do an inner join to make sure we only have complete data and pull in the state_id.  This is done comparing the code field \n",
    "# the States data table and the State field from the main table.  This will allow all the tables to have the same access State_id \n",
    "# versus either complete state name or the state abbreviation.\n",
    "Totalenergyprod_clean = pd.merge(Totalenergyproduction, states_data,how='inner',left_on='State', right_on='Code')\n",
    "\n",
    "# Drop the extra columns from the merge and only keep the state_id.\n",
    "Totalenergyprod_clean = Totalenergyprod_clean[['State_id','Rank','Total Energy Production, trillion Btu']]"
   ]
  },
  {
   "cell_type": "code",
   "execution_count": 200,
   "metadata": {},
   "outputs": [
    {
     "data": {
      "text/html": [
       "<div>\n",
       "<style scoped>\n",
       "    .dataframe tbody tr th:only-of-type {\n",
       "        vertical-align: middle;\n",
       "    }\n",
       "\n",
       "    .dataframe tbody tr th {\n",
       "        vertical-align: top;\n",
       "    }\n",
       "\n",
       "    .dataframe thead th {\n",
       "        text-align: right;\n",
       "    }\n",
       "</style>\n",
       "<table border=\"1\" class=\"dataframe\">\n",
       "  <thead>\n",
       "    <tr style=\"text-align: right;\">\n",
       "      <th></th>\n",
       "      <th>State_id</th>\n",
       "      <th>Rank</th>\n",
       "      <th>Total_Production_trillion_Btu</th>\n",
       "    </tr>\n",
       "  </thead>\n",
       "  <tbody>\n",
       "    <tr>\n",
       "      <th>0</th>\n",
       "      <td>44</td>\n",
       "      <td>1</td>\n",
       "      <td>20421</td>\n",
       "    </tr>\n",
       "    <tr>\n",
       "      <th>1</th>\n",
       "      <td>39</td>\n",
       "      <td>2</td>\n",
       "      <td>8987</td>\n",
       "    </tr>\n",
       "    <tr>\n",
       "      <th>2</th>\n",
       "      <td>51</td>\n",
       "      <td>3</td>\n",
       "      <td>7718</td>\n",
       "    </tr>\n",
       "    <tr>\n",
       "      <th>3</th>\n",
       "      <td>37</td>\n",
       "      <td>4</td>\n",
       "      <td>4881</td>\n",
       "    </tr>\n",
       "    <tr>\n",
       "      <th>4</th>\n",
       "      <td>49</td>\n",
       "      <td>5</td>\n",
       "      <td>4770</td>\n",
       "    </tr>\n",
       "  </tbody>\n",
       "</table>\n",
       "</div>"
      ],
      "text/plain": [
       "   State_id  Rank  Total_Production_trillion_Btu\n",
       "0        44     1                          20421\n",
       "1        39     2                           8987\n",
       "2        51     3                           7718\n",
       "3        37     4                           4881\n",
       "4        49     5                           4770"
      ]
     },
     "execution_count": 200,
     "metadata": {},
     "output_type": "execute_result"
    }
   ],
   "source": [
    "# Rename the columns\n",
    "Totalenergyprod_clean.rename(\n",
    "        columns={\"Total Energy Production, trillion Btu\":\"Total_Production_trillion_Btu\"},\n",
    "        inplace=True)\n",
    "\n",
    "Totalenergyprod_clean.dropna(inplace=True)\n",
    "\n",
    "# Display the final table.\n",
    "Totalenergyprod_clean.head()"
   ]
  },
  {
   "cell_type": "markdown",
   "metadata": {},
   "source": [
    "## Loading the data into SQL DB"
   ]
  },
  {
   "cell_type": "code",
   "execution_count": 113,
   "metadata": {},
   "outputs": [],
   "source": [
    "# set the variables for the pull from SQL.  username and password are in an .env file.  You will need those to make this run\n",
    "# on your machine.\n",
    "host = 'localhost'\n",
    "port = 5432\n",
    "dbname='ETL_Project'\n",
    "username = os.environ.get('USER_NAME')\n",
    "pwd = os.environ.get('PASSWORD')"
   ]
  },
  {
   "cell_type": "code",
   "execution_count": 114,
   "metadata": {},
   "outputs": [],
   "source": [
    "# set up the connection to the database \"ETL_Project\"\n",
    "connection_string = f'{username}:{pwd}@{host}:{port}/{dbname}'\n",
    "engine = create_engine(f'postgresql://{connection_string}')"
   ]
  },
  {
   "cell_type": "code",
   "execution_count": 115,
   "metadata": {},
   "outputs": [
    {
     "data": {
      "text/plain": [
       "['Total_Energy_Consumed',\n",
       " 'Total_Energy_Production',\n",
       " 'Energy_Production_Estimate',\n",
       " 'Renewable_Energy_Potential',\n",
       " 'Electricity_Production',\n",
       " 'State_Abb',\n",
       " 'NaturalGas_Production',\n",
       " 'Coal_Production',\n",
       " 'Crudeoil_Production']"
      ]
     },
     "execution_count": 115,
     "metadata": {},
     "output_type": "execute_result"
    }
   ],
   "source": [
    "engine.table_names()"
   ]
  },
  {
   "cell_type": "markdown",
   "metadata": {},
   "source": [
    "EJ"
   ]
  },
  {
   "cell_type": "code",
   "execution_count": 223,
   "metadata": {},
   "outputs": [],
   "source": [
    "# Load 'State Abb' table\n",
    "states_data.to_sql(name='State_Abb', con=engine, if_exists='append', index=False)"
   ]
  },
  {
   "cell_type": "code",
   "execution_count": 218,
   "metadata": {},
   "outputs": [],
   "source": [
    "# Load 'Renewable_Energy_Potential' table\n",
    "renewable_df.to_sql(name='Renewable_Energy_Potential', con=engine, if_exists='append', index=False)"
   ]
  },
  {
   "cell_type": "code",
   "execution_count": 227,
   "metadata": {},
   "outputs": [],
   "source": [
    "# Load 'Total Net Electricity' table\n",
    "total_electricity_df.to_sql(name='Electricity_Production', con=engine, if_exists='append', index=False)"
   ]
  },
  {
   "cell_type": "code",
   "execution_count": 224,
   "metadata": {},
   "outputs": [
    {
     "data": {
      "text/html": [
       "<div>\n",
       "<style scoped>\n",
       "    .dataframe tbody tr th:only-of-type {\n",
       "        vertical-align: middle;\n",
       "    }\n",
       "\n",
       "    .dataframe tbody tr th {\n",
       "        vertical-align: top;\n",
       "    }\n",
       "\n",
       "    .dataframe thead th {\n",
       "        text-align: right;\n",
       "    }\n",
       "</style>\n",
       "<table border=\"1\" class=\"dataframe\">\n",
       "  <thead>\n",
       "    <tr style=\"text-align: right;\">\n",
       "      <th></th>\n",
       "      <th>State_id</th>\n",
       "      <th>State</th>\n",
       "    </tr>\n",
       "  </thead>\n",
       "  <tbody>\n",
       "    <tr>\n",
       "      <th>0</th>\n",
       "      <td>1</td>\n",
       "      <td>Alabama</td>\n",
       "    </tr>\n",
       "    <tr>\n",
       "      <th>1</th>\n",
       "      <td>2</td>\n",
       "      <td>Alaska</td>\n",
       "    </tr>\n",
       "    <tr>\n",
       "      <th>2</th>\n",
       "      <td>3</td>\n",
       "      <td>Arizona</td>\n",
       "    </tr>\n",
       "    <tr>\n",
       "      <th>3</th>\n",
       "      <td>4</td>\n",
       "      <td>Arkansas</td>\n",
       "    </tr>\n",
       "    <tr>\n",
       "      <th>4</th>\n",
       "      <td>5</td>\n",
       "      <td>California</td>\n",
       "    </tr>\n",
       "  </tbody>\n",
       "</table>\n",
       "</div>"
      ],
      "text/plain": [
       "   State_id       State\n",
       "0         1     Alabama\n",
       "1         2      Alaska\n",
       "2         3     Arizona\n",
       "3         4    Arkansas\n",
       "4         5  California"
      ]
     },
     "execution_count": 224,
     "metadata": {},
     "output_type": "execute_result"
    }
   ],
   "source": [
    "# Confirm data has been added by querying the State_Abb table\n",
    "pd.read_sql_query('select \"State_id\", \"State\"  from \"State_Abb\"', con=engine).head()"
   ]
  },
  {
   "cell_type": "code",
   "execution_count": 225,
   "metadata": {},
   "outputs": [
    {
     "data": {
      "text/html": [
       "<div>\n",
       "<style scoped>\n",
       "    .dataframe tbody tr th:only-of-type {\n",
       "        vertical-align: middle;\n",
       "    }\n",
       "\n",
       "    .dataframe tbody tr th {\n",
       "        vertical-align: top;\n",
       "    }\n",
       "\n",
       "    .dataframe thead th {\n",
       "        text-align: right;\n",
       "    }\n",
       "</style>\n",
       "<table border=\"1\" class=\"dataframe\">\n",
       "  <thead>\n",
       "    <tr style=\"text-align: right;\">\n",
       "      <th></th>\n",
       "      <th>State_id</th>\n",
       "      <th>urbanUtilityScalePV_GWh</th>\n",
       "      <th>ruralUtilityScalePV_GWh</th>\n",
       "      <th>rooftopPV_GWh</th>\n",
       "      <th>CSP_GWh</th>\n",
       "      <th>onshoreWind_GWh</th>\n",
       "      <th>offshoreWind_GWh</th>\n",
       "      <th>biopowerSolid_GWh</th>\n",
       "      <th>biopowerGaseous_GWh</th>\n",
       "      <th>geothermalHydrothermal_GWh</th>\n",
       "      <th>EGSGeothermal_GWh</th>\n",
       "      <th>hydropower_GWh</th>\n",
       "    </tr>\n",
       "  </thead>\n",
       "  <tbody>\n",
       "    <tr>\n",
       "      <th>0</th>\n",
       "      <td>1</td>\n",
       "      <td>35850</td>\n",
       "      <td>3706838</td>\n",
       "      <td>15475</td>\n",
       "      <td>0</td>\n",
       "      <td>283</td>\n",
       "      <td>0</td>\n",
       "      <td>11193</td>\n",
       "      <td>1533</td>\n",
       "      <td>0</td>\n",
       "      <td>535489</td>\n",
       "      <td>4102</td>\n",
       "    </tr>\n",
       "    <tr>\n",
       "      <th>1</th>\n",
       "      <td>5</td>\n",
       "      <td>246008</td>\n",
       "      <td>8855917</td>\n",
       "      <td>106411</td>\n",
       "      <td>8490916</td>\n",
       "      <td>89862</td>\n",
       "      <td>2662579</td>\n",
       "      <td>12408</td>\n",
       "      <td>15510</td>\n",
       "      <td>130921</td>\n",
       "      <td>1344179</td>\n",
       "      <td>30023</td>\n",
       "    </tr>\n",
       "    <tr>\n",
       "      <th>2</th>\n",
       "      <td>7</td>\n",
       "      <td>7716</td>\n",
       "      <td>19627</td>\n",
       "      <td>6616</td>\n",
       "      <td>0</td>\n",
       "      <td>61</td>\n",
       "      <td>26545</td>\n",
       "      <td>494</td>\n",
       "      <td>414</td>\n",
       "      <td>0</td>\n",
       "      <td>56078</td>\n",
       "      <td>922</td>\n",
       "    </tr>\n",
       "    <tr>\n",
       "      <th>3</th>\n",
       "      <td>8</td>\n",
       "      <td>14856</td>\n",
       "      <td>272332</td>\n",
       "      <td>2185</td>\n",
       "      <td>0</td>\n",
       "      <td>21</td>\n",
       "      <td>60654</td>\n",
       "      <td>512</td>\n",
       "      <td>385</td>\n",
       "      <td>0</td>\n",
       "      <td>22813</td>\n",
       "      <td>30</td>\n",
       "    </tr>\n",
       "    <tr>\n",
       "      <th>4</th>\n",
       "      <td>10</td>\n",
       "      <td>72787</td>\n",
       "      <td>5137346</td>\n",
       "      <td>63986</td>\n",
       "      <td>358</td>\n",
       "      <td>0</td>\n",
       "      <td>34684</td>\n",
       "      <td>9664</td>\n",
       "      <td>3693</td>\n",
       "      <td>0</td>\n",
       "      <td>374161</td>\n",
       "      <td>682</td>\n",
       "    </tr>\n",
       "  </tbody>\n",
       "</table>\n",
       "</div>"
      ],
      "text/plain": [
       "   State_id  urbanUtilityScalePV_GWh  ruralUtilityScalePV_GWh  rooftopPV_GWh  \\\n",
       "0         1                    35850                  3706838          15475   \n",
       "1         5                   246008                  8855917         106411   \n",
       "2         7                     7716                    19627           6616   \n",
       "3         8                    14856                   272332           2185   \n",
       "4        10                    72787                  5137346          63986   \n",
       "\n",
       "   CSP_GWh  onshoreWind_GWh  offshoreWind_GWh  biopowerSolid_GWh  \\\n",
       "0        0              283                 0              11193   \n",
       "1  8490916            89862           2662579              12408   \n",
       "2        0               61             26545                494   \n",
       "3        0               21             60654                512   \n",
       "4      358                0             34684               9664   \n",
       "\n",
       "   biopowerGaseous_GWh  geothermalHydrothermal_GWh  EGSGeothermal_GWh  \\\n",
       "0                 1533                           0             535489   \n",
       "1                15510                      130921            1344179   \n",
       "2                  414                           0              56078   \n",
       "3                  385                           0              22813   \n",
       "4                 3693                           0             374161   \n",
       "\n",
       "   hydropower_GWh  \n",
       "0            4102  \n",
       "1           30023  \n",
       "2             922  \n",
       "3              30  \n",
       "4             682  "
      ]
     },
     "execution_count": 225,
     "metadata": {},
     "output_type": "execute_result"
    }
   ],
   "source": [
    "# Confirm data has been added by querying the Renewable_Energy_Potential table\n",
    "pd.read_sql_query('select * from \"Renewable_Energy_Potential\"', con=engine).head()"
   ]
  },
  {
   "cell_type": "code",
   "execution_count": 228,
   "metadata": {},
   "outputs": [
    {
     "data": {
      "text/html": [
       "<div>\n",
       "<style scoped>\n",
       "    .dataframe tbody tr th:only-of-type {\n",
       "        vertical-align: middle;\n",
       "    }\n",
       "\n",
       "    .dataframe tbody tr th {\n",
       "        vertical-align: top;\n",
       "    }\n",
       "\n",
       "    .dataframe thead th {\n",
       "        text-align: right;\n",
       "    }\n",
       "</style>\n",
       "<table border=\"1\" class=\"dataframe\">\n",
       "  <thead>\n",
       "    <tr style=\"text-align: right;\">\n",
       "      <th></th>\n",
       "      <th>State_id</th>\n",
       "      <th>Rank</th>\n",
       "      <th>Total_Net_GWh</th>\n",
       "    </tr>\n",
       "  </thead>\n",
       "  <tbody>\n",
       "    <tr>\n",
       "      <th>0</th>\n",
       "      <td>1</td>\n",
       "      <td>7</td>\n",
       "      <td>10575</td>\n",
       "    </tr>\n",
       "    <tr>\n",
       "      <th>1</th>\n",
       "      <td>2</td>\n",
       "      <td>48</td>\n",
       "      <td>476</td>\n",
       "    </tr>\n",
       "    <tr>\n",
       "      <th>2</th>\n",
       "      <td>3</td>\n",
       "      <td>10</td>\n",
       "      <td>9350</td>\n",
       "    </tr>\n",
       "    <tr>\n",
       "      <th>3</th>\n",
       "      <td>4</td>\n",
       "      <td>31</td>\n",
       "      <td>3532</td>\n",
       "    </tr>\n",
       "    <tr>\n",
       "      <th>4</th>\n",
       "      <td>5</td>\n",
       "      <td>4</td>\n",
       "      <td>15465</td>\n",
       "    </tr>\n",
       "  </tbody>\n",
       "</table>\n",
       "</div>"
      ],
      "text/plain": [
       "   State_id  Rank  Total_Net_GWh\n",
       "0         1     7          10575\n",
       "1         2    48            476\n",
       "2         3    10           9350\n",
       "3         4    31           3532\n",
       "4         5     4          15465"
      ]
     },
     "execution_count": 228,
     "metadata": {},
     "output_type": "execute_result"
    }
   ],
   "source": [
    "# Confirm data has been added by querying the Electricity_Production table\n",
    "pd.read_sql_query('select * from \"Electricity_Production\"', con=engine).head()"
   ]
  },
  {
   "cell_type": "markdown",
   "metadata": {},
   "source": [
    "Niral"
   ]
  },
  {
   "cell_type": "code",
   "execution_count": 232,
   "metadata": {},
   "outputs": [],
   "source": [
    "# Load 'NaturalGas' table\n",
    "naturalgas_df.to_sql(name='NaturalGas_Production', con=engine, if_exists='append', index=False)"
   ]
  },
  {
   "cell_type": "code",
   "execution_count": 230,
   "metadata": {},
   "outputs": [],
   "source": [
    "# Load 'Energy_Production_Estimate' table\n",
    "productionfinal_df.to_sql(name='Energy_Production_Estimate', con=engine, if_exists='append', index=False)"
   ]
  },
  {
   "cell_type": "code",
   "execution_count": 231,
   "metadata": {},
   "outputs": [
    {
     "data": {
      "text/html": [
       "<div>\n",
       "<style scoped>\n",
       "    .dataframe tbody tr th:only-of-type {\n",
       "        vertical-align: middle;\n",
       "    }\n",
       "\n",
       "    .dataframe tbody tr th {\n",
       "        vertical-align: top;\n",
       "    }\n",
       "\n",
       "    .dataframe thead th {\n",
       "        text-align: right;\n",
       "    }\n",
       "</style>\n",
       "<table border=\"1\" class=\"dataframe\">\n",
       "  <thead>\n",
       "    <tr style=\"text-align: right;\">\n",
       "      <th></th>\n",
       "      <th>State_id</th>\n",
       "      <th>Fossil_Fuels</th>\n",
       "      <th>Natural_Gas</th>\n",
       "      <th>Crude_Oil</th>\n",
       "      <th>Nuclear_Electricity</th>\n",
       "      <th>Biofuels</th>\n",
       "      <th>Wood_Waste</th>\n",
       "      <th>Other</th>\n",
       "      <th>Total</th>\n",
       "    </tr>\n",
       "  </thead>\n",
       "  <tbody>\n",
       "    <tr>\n",
       "      <th>0</th>\n",
       "      <td>1</td>\n",
       "      <td>370.5</td>\n",
       "      <td>149.6</td>\n",
       "      <td>33.6</td>\n",
       "      <td>412.6</td>\n",
       "      <td>1.7</td>\n",
       "      <td>170.1</td>\n",
       "      <td>105.0</td>\n",
       "      <td>1,243.0</td>\n",
       "    </tr>\n",
       "    <tr>\n",
       "      <th>1</th>\n",
       "      <td>2</td>\n",
       "      <td>13.8</td>\n",
       "      <td>375.3</td>\n",
       "      <td>997.4</td>\n",
       "      <td>0.0</td>\n",
       "      <td>(s)</td>\n",
       "      <td>7.3</td>\n",
       "      <td>16.8</td>\n",
       "      <td>1,410.6</td>\n",
       "    </tr>\n",
       "    <tr>\n",
       "      <th>2</th>\n",
       "      <td>3</td>\n",
       "      <td>140.8</td>\n",
       "      <td>(s)</td>\n",
       "      <td>0.1</td>\n",
       "      <td>325.1</td>\n",
       "      <td>6.8</td>\n",
       "      <td>8.7</td>\n",
       "      <td>139.5</td>\n",
       "      <td>621.0</td>\n",
       "    </tr>\n",
       "    <tr>\n",
       "      <th>3</th>\n",
       "      <td>4</td>\n",
       "      <td>0.0</td>\n",
       "      <td>600.4</td>\n",
       "      <td>28.6</td>\n",
       "      <td>133.0</td>\n",
       "      <td>9.5</td>\n",
       "      <td>85.2</td>\n",
       "      <td>30.3</td>\n",
       "      <td>887.1</td>\n",
       "    </tr>\n",
       "    <tr>\n",
       "      <th>4</th>\n",
       "      <td>5</td>\n",
       "      <td>0.0</td>\n",
       "      <td>228.9</td>\n",
       "      <td>965.3</td>\n",
       "      <td>190.4</td>\n",
       "      <td>35.5</td>\n",
       "      <td>130.5</td>\n",
       "      <td>857.6</td>\n",
       "      <td>2,408.2</td>\n",
       "    </tr>\n",
       "  </tbody>\n",
       "</table>\n",
       "</div>"
      ],
      "text/plain": [
       "   State_id Fossil_Fuels Natural_Gas Crude_Oil Nuclear_Electricity Biofuels  \\\n",
       "0         1        370.5       149.6      33.6               412.6      1.7   \n",
       "1         2         13.8       375.3     997.4                 0.0      (s)   \n",
       "2         3        140.8         (s)       0.1               325.1      6.8   \n",
       "3         4          0.0       600.4      28.6               133.0      9.5   \n",
       "4         5          0.0       228.9     965.3               190.4     35.5   \n",
       "\n",
       "  Wood_Waste  Other    Total  \n",
       "0      170.1  105.0  1,243.0  \n",
       "1        7.3   16.8  1,410.6  \n",
       "2        8.7  139.5    621.0  \n",
       "3       85.2   30.3    887.1  \n",
       "4      130.5  857.6  2,408.2  "
      ]
     },
     "execution_count": 231,
     "metadata": {},
     "output_type": "execute_result"
    }
   ],
   "source": [
    "# Confirm data has been added by querying the Electricity_Production table\n",
    "pd.read_sql_query('select * from \"Energy_Production_Estimate\"', con=engine).head()"
   ]
  },
  {
   "cell_type": "code",
   "execution_count": 233,
   "metadata": {},
   "outputs": [
    {
     "data": {
      "text/html": [
       "<div>\n",
       "<style scoped>\n",
       "    .dataframe tbody tr th:only-of-type {\n",
       "        vertical-align: middle;\n",
       "    }\n",
       "\n",
       "    .dataframe tbody tr th {\n",
       "        vertical-align: top;\n",
       "    }\n",
       "\n",
       "    .dataframe thead th {\n",
       "        text-align: right;\n",
       "    }\n",
       "</style>\n",
       "<table border=\"1\" class=\"dataframe\">\n",
       "  <thead>\n",
       "    <tr style=\"text-align: right;\">\n",
       "      <th></th>\n",
       "      <th>State_id</th>\n",
       "      <th>Rank</th>\n",
       "      <th>Total_Gas_million_cu_ft</th>\n",
       "    </tr>\n",
       "  </thead>\n",
       "  <tbody>\n",
       "    <tr>\n",
       "      <th>0</th>\n",
       "      <td>1</td>\n",
       "      <td>16</td>\n",
       "      <td>139485</td>\n",
       "    </tr>\n",
       "    <tr>\n",
       "      <th>1</th>\n",
       "      <td>2</td>\n",
       "      <td>12</td>\n",
       "      <td>341315</td>\n",
       "    </tr>\n",
       "    <tr>\n",
       "      <th>2</th>\n",
       "      <td>3</td>\n",
       "      <td>31</td>\n",
       "      <td>46</td>\n",
       "    </tr>\n",
       "    <tr>\n",
       "      <th>3</th>\n",
       "      <td>4</td>\n",
       "      <td>11</td>\n",
       "      <td>589973</td>\n",
       "    </tr>\n",
       "    <tr>\n",
       "      <th>4</th>\n",
       "      <td>5</td>\n",
       "      <td>14</td>\n",
       "      <td>202616</td>\n",
       "    </tr>\n",
       "  </tbody>\n",
       "</table>\n",
       "</div>"
      ],
      "text/plain": [
       "   State_id  Rank  Total_Gas_million_cu_ft\n",
       "0         1    16                   139485\n",
       "1         2    12                   341315\n",
       "2         3    31                       46\n",
       "3         4    11                   589973\n",
       "4         5    14                   202616"
      ]
     },
     "execution_count": 233,
     "metadata": {},
     "output_type": "execute_result"
    }
   ],
   "source": [
    "# Confirm data has been added by querying the Electricity_Production table\n",
    "pd.read_sql_query('select * from \"NaturalGas_Production\"', con=engine).head()"
   ]
  },
  {
   "cell_type": "code",
   "execution_count": null,
   "metadata": {},
   "outputs": [],
   "source": []
  },
  {
   "cell_type": "markdown",
   "metadata": {},
   "source": [
    "Teshanee"
   ]
  },
  {
   "cell_type": "code",
   "execution_count": 220,
   "metadata": {},
   "outputs": [],
   "source": [
    "# Load 'Coal_Production' table\n",
    "Coal_combined_df.to_sql(name='Coal_Production', con=engine, if_exists='append', index=False)"
   ]
  },
  {
   "cell_type": "code",
   "execution_count": 236,
   "metadata": {},
   "outputs": [],
   "source": [
    "# Load 'Crudeoil_Production' table\n",
    "Crude_combined_df.to_sql(name='Crudeoil_Production', con=engine, if_exists='append', index=False)"
   ]
  },
  {
   "cell_type": "code",
   "execution_count": 234,
   "metadata": {},
   "outputs": [
    {
     "data": {
      "text/html": [
       "<div>\n",
       "<style scoped>\n",
       "    .dataframe tbody tr th:only-of-type {\n",
       "        vertical-align: middle;\n",
       "    }\n",
       "\n",
       "    .dataframe tbody tr th {\n",
       "        vertical-align: top;\n",
       "    }\n",
       "\n",
       "    .dataframe thead th {\n",
       "        text-align: right;\n",
       "    }\n",
       "</style>\n",
       "<table border=\"1\" class=\"dataframe\">\n",
       "  <thead>\n",
       "    <tr style=\"text-align: right;\">\n",
       "      <th></th>\n",
       "      <th>State_id</th>\n",
       "      <th>Rank</th>\n",
       "      <th>Total_Coal_thousand_short_tons</th>\n",
       "    </tr>\n",
       "  </thead>\n",
       "  <tbody>\n",
       "    <tr>\n",
       "      <th>0</th>\n",
       "      <td>1</td>\n",
       "      <td>10</td>\n",
       "      <td>14783</td>\n",
       "    </tr>\n",
       "    <tr>\n",
       "      <th>1</th>\n",
       "      <td>2</td>\n",
       "      <td>20</td>\n",
       "      <td>902</td>\n",
       "    </tr>\n",
       "    <tr>\n",
       "      <th>2</th>\n",
       "      <td>3</td>\n",
       "      <td>16</td>\n",
       "      <td>6550</td>\n",
       "    </tr>\n",
       "    <tr>\n",
       "      <th>3</th>\n",
       "      <td>6</td>\n",
       "      <td>11</td>\n",
       "      <td>14026</td>\n",
       "    </tr>\n",
       "    <tr>\n",
       "      <th>4</th>\n",
       "      <td>14</td>\n",
       "      <td>4</td>\n",
       "      <td>49563</td>\n",
       "    </tr>\n",
       "  </tbody>\n",
       "</table>\n",
       "</div>"
      ],
      "text/plain": [
       "  State_id  Rank Total_Coal_thousand_short_tons\n",
       "0        1    10                          14783\n",
       "1        2    20                            902\n",
       "2        3    16                           6550\n",
       "3        6    11                          14026\n",
       "4       14     4                          49563"
      ]
     },
     "execution_count": 234,
     "metadata": {},
     "output_type": "execute_result"
    }
   ],
   "source": [
    "# Confirm data has been added by querying the Coal_Production table\n",
    "pd.read_sql_query('select *  from \"Coal_Production\"', con=engine).head()"
   ]
  },
  {
   "cell_type": "code",
   "execution_count": 237,
   "metadata": {},
   "outputs": [
    {
     "data": {
      "text/html": [
       "<div>\n",
       "<style scoped>\n",
       "    .dataframe tbody tr th:only-of-type {\n",
       "        vertical-align: middle;\n",
       "    }\n",
       "\n",
       "    .dataframe tbody tr th {\n",
       "        vertical-align: top;\n",
       "    }\n",
       "\n",
       "    .dataframe thead th {\n",
       "        text-align: right;\n",
       "    }\n",
       "</style>\n",
       "<table border=\"1\" class=\"dataframe\">\n",
       "  <thead>\n",
       "    <tr style=\"text-align: right;\">\n",
       "      <th></th>\n",
       "      <th>State_id</th>\n",
       "      <th>Rank</th>\n",
       "      <th>Total_Oil_thousand_barrels_per_day</th>\n",
       "    </tr>\n",
       "  </thead>\n",
       "  <tbody>\n",
       "    <tr>\n",
       "      <th>0</th>\n",
       "      <td>1</td>\n",
       "      <td>20</td>\n",
       "      <td>6</td>\n",
       "    </tr>\n",
       "    <tr>\n",
       "      <th>1</th>\n",
       "      <td>2</td>\n",
       "      <td>5</td>\n",
       "      <td>404</td>\n",
       "    </tr>\n",
       "    <tr>\n",
       "      <th>2</th>\n",
       "      <td>3</td>\n",
       "      <td>31</td>\n",
       "      <td>0</td>\n",
       "    </tr>\n",
       "    <tr>\n",
       "      <th>3</th>\n",
       "      <td>4</td>\n",
       "      <td>18</td>\n",
       "      <td>10</td>\n",
       "    </tr>\n",
       "    <tr>\n",
       "      <th>4</th>\n",
       "      <td>5</td>\n",
       "      <td>6</td>\n",
       "      <td>392</td>\n",
       "    </tr>\n",
       "  </tbody>\n",
       "</table>\n",
       "</div>"
      ],
      "text/plain": [
       "   State_id  Rank Total_Oil_thousand_barrels_per_day\n",
       "0         1    20                                  6\n",
       "1         2     5                                404\n",
       "2         3    31                                  0\n",
       "3         4    18                                 10\n",
       "4         5     6                                392"
      ]
     },
     "execution_count": 237,
     "metadata": {},
     "output_type": "execute_result"
    }
   ],
   "source": [
    "# Confirm data has been added by querying the Crudeoil_Production table\n",
    "pd.read_sql_query('select *  from \"Crudeoil_Production\"', con=engine).head()"
   ]
  },
  {
   "cell_type": "code",
   "execution_count": null,
   "metadata": {},
   "outputs": [],
   "source": []
  },
  {
   "cell_type": "code",
   "execution_count": null,
   "metadata": {},
   "outputs": [],
   "source": []
  },
  {
   "cell_type": "code",
   "execution_count": null,
   "metadata": {},
   "outputs": [],
   "source": []
  },
  {
   "cell_type": "markdown",
   "metadata": {},
   "source": [
    "Bill"
   ]
  },
  {
   "cell_type": "code",
   "execution_count": 239,
   "metadata": {},
   "outputs": [],
   "source": [
    "# Load 'Total_Energy_Production' table\n",
    "Totalenergyprod_clean.to_sql(name='Total_Energy_Production', con=engine, if_exists='append', index=False)"
   ]
  },
  {
   "cell_type": "code",
   "execution_count": 242,
   "metadata": {},
   "outputs": [],
   "source": [
    "# Load 'Total_Energy_Consumed' table\n",
    "Totalenergycon_clean.to_sql(name='Total_Energy_Consumed', con=engine, if_exists='append', index=False)"
   ]
  },
  {
   "cell_type": "code",
   "execution_count": 244,
   "metadata": {},
   "outputs": [
    {
     "data": {
      "text/html": [
       "<div>\n",
       "<style scoped>\n",
       "    .dataframe tbody tr th:only-of-type {\n",
       "        vertical-align: middle;\n",
       "    }\n",
       "\n",
       "    .dataframe tbody tr th {\n",
       "        vertical-align: top;\n",
       "    }\n",
       "\n",
       "    .dataframe thead th {\n",
       "        text-align: right;\n",
       "    }\n",
       "</style>\n",
       "<table border=\"1\" class=\"dataframe\">\n",
       "  <thead>\n",
       "    <tr style=\"text-align: right;\">\n",
       "      <th></th>\n",
       "      <th>State_id</th>\n",
       "      <th>Rank</th>\n",
       "      <th>Total_Production_trillion_Btu</th>\n",
       "    </tr>\n",
       "  </thead>\n",
       "  <tbody>\n",
       "    <tr>\n",
       "      <th>0</th>\n",
       "      <td>44</td>\n",
       "      <td>1</td>\n",
       "      <td>20421</td>\n",
       "    </tr>\n",
       "    <tr>\n",
       "      <th>1</th>\n",
       "      <td>39</td>\n",
       "      <td>2</td>\n",
       "      <td>8987</td>\n",
       "    </tr>\n",
       "    <tr>\n",
       "      <th>2</th>\n",
       "      <td>51</td>\n",
       "      <td>3</td>\n",
       "      <td>7718</td>\n",
       "    </tr>\n",
       "    <tr>\n",
       "      <th>3</th>\n",
       "      <td>37</td>\n",
       "      <td>4</td>\n",
       "      <td>4881</td>\n",
       "    </tr>\n",
       "    <tr>\n",
       "      <th>4</th>\n",
       "      <td>49</td>\n",
       "      <td>5</td>\n",
       "      <td>4770</td>\n",
       "    </tr>\n",
       "  </tbody>\n",
       "</table>\n",
       "</div>"
      ],
      "text/plain": [
       "   State_id  Rank  Total_Production_trillion_Btu\n",
       "0        44     1                          20421\n",
       "1        39     2                           8987\n",
       "2        51     3                           7718\n",
       "3        37     4                           4881\n",
       "4        49     5                           4770"
      ]
     },
     "execution_count": 244,
     "metadata": {},
     "output_type": "execute_result"
    }
   ],
   "source": [
    "# Confirm data has been added by querying the Total_Energy_Production table\n",
    "pd.read_sql_query('select *  from \"Total_Energy_Production\"', con=engine).head()"
   ]
  },
  {
   "cell_type": "code",
   "execution_count": 243,
   "metadata": {},
   "outputs": [
    {
     "data": {
      "text/html": [
       "<div>\n",
       "<style scoped>\n",
       "    .dataframe tbody tr th:only-of-type {\n",
       "        vertical-align: middle;\n",
       "    }\n",
       "\n",
       "    .dataframe tbody tr th {\n",
       "        vertical-align: top;\n",
       "    }\n",
       "\n",
       "    .dataframe thead th {\n",
       "        text-align: right;\n",
       "    }\n",
       "</style>\n",
       "<table border=\"1\" class=\"dataframe\">\n",
       "  <thead>\n",
       "    <tr style=\"text-align: right;\">\n",
       "      <th></th>\n",
       "      <th>State_id</th>\n",
       "      <th>Rank</th>\n",
       "      <th>Total_Consumed_million_Btu</th>\n",
       "    </tr>\n",
       "  </thead>\n",
       "  <tbody>\n",
       "    <tr>\n",
       "      <th>0</th>\n",
       "      <td>51</td>\n",
       "      <td>1</td>\n",
       "      <td>967</td>\n",
       "    </tr>\n",
       "    <tr>\n",
       "      <th>1</th>\n",
       "      <td>19</td>\n",
       "      <td>2</td>\n",
       "      <td>945</td>\n",
       "    </tr>\n",
       "    <tr>\n",
       "      <th>2</th>\n",
       "      <td>35</td>\n",
       "      <td>3</td>\n",
       "      <td>872</td>\n",
       "    </tr>\n",
       "    <tr>\n",
       "      <th>3</th>\n",
       "      <td>2</td>\n",
       "      <td>4</td>\n",
       "      <td>830</td>\n",
       "    </tr>\n",
       "    <tr>\n",
       "      <th>4</th>\n",
       "      <td>16</td>\n",
       "      <td>5</td>\n",
       "      <td>513</td>\n",
       "    </tr>\n",
       "  </tbody>\n",
       "</table>\n",
       "</div>"
      ],
      "text/plain": [
       "   State_id  Rank  Total_Consumed_million_Btu\n",
       "0        51     1                         967\n",
       "1        19     2                         945\n",
       "2        35     3                         872\n",
       "3         2     4                         830\n",
       "4        16     5                         513"
      ]
     },
     "execution_count": 243,
     "metadata": {},
     "output_type": "execute_result"
    }
   ],
   "source": [
    "# Confirm data has been added by querying the Total_Energy_Consumed table\n",
    "pd.read_sql_query('select *  from \"Total_Energy_Consumed\"', con=engine).head()"
   ]
  },
  {
   "cell_type": "code",
   "execution_count": 245,
   "metadata": {},
   "outputs": [
    {
     "data": {
      "text/html": [
       "<div>\n",
       "<style scoped>\n",
       "    .dataframe tbody tr th:only-of-type {\n",
       "        vertical-align: middle;\n",
       "    }\n",
       "\n",
       "    .dataframe tbody tr th {\n",
       "        vertical-align: top;\n",
       "    }\n",
       "\n",
       "    .dataframe thead th {\n",
       "        text-align: right;\n",
       "    }\n",
       "</style>\n",
       "<table border=\"1\" class=\"dataframe\">\n",
       "  <thead>\n",
       "    <tr style=\"text-align: right;\">\n",
       "      <th></th>\n",
       "      <th>State_id</th>\n",
       "      <th>Rank</th>\n",
       "      <th>Total_Consumed_million_Btu</th>\n",
       "      <th>State_id</th>\n",
       "      <th>State</th>\n",
       "      <th>Abbrev</th>\n",
       "      <th>Code</th>\n",
       "    </tr>\n",
       "  </thead>\n",
       "  <tbody>\n",
       "    <tr>\n",
       "      <th>0</th>\n",
       "      <td>51</td>\n",
       "      <td>1</td>\n",
       "      <td>967</td>\n",
       "      <td>51</td>\n",
       "      <td>Wyoming</td>\n",
       "      <td>Wyo.</td>\n",
       "      <td>WY</td>\n",
       "    </tr>\n",
       "    <tr>\n",
       "      <th>1</th>\n",
       "      <td>19</td>\n",
       "      <td>2</td>\n",
       "      <td>945</td>\n",
       "      <td>19</td>\n",
       "      <td>Louisiana</td>\n",
       "      <td>La.</td>\n",
       "      <td>LA</td>\n",
       "    </tr>\n",
       "    <tr>\n",
       "      <th>2</th>\n",
       "      <td>35</td>\n",
       "      <td>3</td>\n",
       "      <td>872</td>\n",
       "      <td>35</td>\n",
       "      <td>North Dakota</td>\n",
       "      <td>N.D.</td>\n",
       "      <td>ND</td>\n",
       "    </tr>\n",
       "    <tr>\n",
       "      <th>3</th>\n",
       "      <td>2</td>\n",
       "      <td>4</td>\n",
       "      <td>830</td>\n",
       "      <td>2</td>\n",
       "      <td>Alaska</td>\n",
       "      <td>Alaska</td>\n",
       "      <td>AK</td>\n",
       "    </tr>\n",
       "    <tr>\n",
       "      <th>4</th>\n",
       "      <td>16</td>\n",
       "      <td>5</td>\n",
       "      <td>513</td>\n",
       "      <td>16</td>\n",
       "      <td>Iowa</td>\n",
       "      <td>Iowa</td>\n",
       "      <td>IA</td>\n",
       "    </tr>\n",
       "  </tbody>\n",
       "</table>\n",
       "</div>"
      ],
      "text/plain": [
       "   State_id  Rank  Total_Consumed_million_Btu  State_id         State  Abbrev  \\\n",
       "0        51     1                         967        51       Wyoming    Wyo.   \n",
       "1        19     2                         945        19     Louisiana     La.   \n",
       "2        35     3                         872        35  North Dakota    N.D.   \n",
       "3         2     4                         830         2        Alaska  Alaska   \n",
       "4        16     5                         513        16          Iowa    Iowa   \n",
       "\n",
       "  Code  \n",
       "0   WY  \n",
       "1   LA  \n",
       "2   ND  \n",
       "3   AK  \n",
       "4   IA  "
      ]
     },
     "execution_count": 245,
     "metadata": {},
     "output_type": "execute_result"
    }
   ],
   "source": [
    "pd.read_sql_query('select * from \"Total_Energy_Consumed\" tec inner join \"State_Abb\" sa on tec.\"State_id\"=sa.\"State_id\"', con=engine).head()"
   ]
  },
  {
   "cell_type": "code",
   "execution_count": null,
   "metadata": {},
   "outputs": [],
   "source": []
  },
  {
   "cell_type": "code",
   "execution_count": null,
   "metadata": {},
   "outputs": [],
   "source": []
  },
  {
   "cell_type": "code",
   "execution_count": null,
   "metadata": {},
   "outputs": [],
   "source": []
  },
  {
   "cell_type": "markdown",
   "metadata": {},
   "source": [
    "## Queries"
   ]
  },
  {
   "cell_type": "code",
   "execution_count": 252,
   "metadata": {},
   "outputs": [
    {
     "data": {
      "text/html": [
       "<div>\n",
       "<style scoped>\n",
       "    .dataframe tbody tr th:only-of-type {\n",
       "        vertical-align: middle;\n",
       "    }\n",
       "\n",
       "    .dataframe tbody tr th {\n",
       "        vertical-align: top;\n",
       "    }\n",
       "\n",
       "    .dataframe thead th {\n",
       "        text-align: right;\n",
       "    }\n",
       "</style>\n",
       "<table border=\"1\" class=\"dataframe\">\n",
       "  <thead>\n",
       "    <tr style=\"text-align: right;\">\n",
       "      <th></th>\n",
       "      <th>Code</th>\n",
       "      <th>biopowerSolid_GWh</th>\n",
       "      <th>biopowerGaseous_GWh</th>\n",
       "    </tr>\n",
       "  </thead>\n",
       "  <tbody>\n",
       "    <tr>\n",
       "      <th>0</th>\n",
       "      <td>AL</td>\n",
       "      <td>11193</td>\n",
       "      <td>1533</td>\n",
       "    </tr>\n",
       "    <tr>\n",
       "      <th>1</th>\n",
       "      <td>CA</td>\n",
       "      <td>12408</td>\n",
       "      <td>15510</td>\n",
       "    </tr>\n",
       "    <tr>\n",
       "      <th>2</th>\n",
       "      <td>CT</td>\n",
       "      <td>494</td>\n",
       "      <td>414</td>\n",
       "    </tr>\n",
       "    <tr>\n",
       "      <th>3</th>\n",
       "      <td>DE</td>\n",
       "      <td>512</td>\n",
       "      <td>385</td>\n",
       "    </tr>\n",
       "    <tr>\n",
       "      <th>4</th>\n",
       "      <td>FL</td>\n",
       "      <td>9664</td>\n",
       "      <td>3693</td>\n",
       "    </tr>\n",
       "  </tbody>\n",
       "</table>\n",
       "</div>"
      ],
      "text/plain": [
       "  Code  biopowerSolid_GWh  biopowerGaseous_GWh\n",
       "0   AL              11193                 1533\n",
       "1   CA              12408                15510\n",
       "2   CT                494                  414\n",
       "3   DE                512                  385\n",
       "4   FL               9664                 3693"
      ]
     },
     "execution_count": 252,
     "metadata": {},
     "output_type": "execute_result"
    }
   ],
   "source": [
    "sql_query = f\"\"\"\n",
    "    SELECT st.\"Code\", rep.\"biopowerSolid_GWh\", rep.\"biopowerGaseous_GWh\"\n",
    "    FROM \"Renewable_Energy_Potential\"  rep\n",
    "    INNER JOIN \"State_Abb\"  st\n",
    "    ON rep.\"State_id\" = st.\"State_id\"\n",
    "\"\"\"\n",
    "pd.read_sql_query(sql_query, con=engine).head()"
   ]
  },
  {
   "cell_type": "code",
   "execution_count": 257,
   "metadata": {},
   "outputs": [
    {
     "data": {
      "text/html": [
       "<div>\n",
       "<style scoped>\n",
       "    .dataframe tbody tr th:only-of-type {\n",
       "        vertical-align: middle;\n",
       "    }\n",
       "\n",
       "    .dataframe tbody tr th {\n",
       "        vertical-align: top;\n",
       "    }\n",
       "\n",
       "    .dataframe thead th {\n",
       "        text-align: right;\n",
       "    }\n",
       "</style>\n",
       "<table border=\"1\" class=\"dataframe\">\n",
       "  <thead>\n",
       "    <tr style=\"text-align: right;\">\n",
       "      <th></th>\n",
       "      <th>biopowerSolid_GWh</th>\n",
       "      <th>biopowerGaseous_GWh</th>\n",
       "      <th>Biofuels</th>\n",
       "    </tr>\n",
       "  </thead>\n",
       "  <tbody>\n",
       "    <tr>\n",
       "      <th>0</th>\n",
       "      <td>12869</td>\n",
       "      <td>3780</td>\n",
       "      <td>0.2</td>\n",
       "    </tr>\n",
       "  </tbody>\n",
       "</table>\n",
       "</div>"
      ],
      "text/plain": [
       "   biopowerSolid_GWh  biopowerGaseous_GWh Biofuels\n",
       "0              12869                 3780      0.2"
      ]
     },
     "execution_count": 257,
     "metadata": {},
     "output_type": "execute_result"
    }
   ],
   "source": [
    "sql_query = f\"\"\"\n",
    "    SELECT rep.\"biopowerSolid_GWh\", rep.\"biopowerGaseous_GWh\", epe.\"Biofuels\"\n",
    "    FROM \"Renewable_Energy_Potential\"  rep\n",
    "    INNER JOIN \"Energy_Production_Estimate\" epe\n",
    "    ON rep.\"State_id\" = epe.\"State_id\"\n",
    "    WHERE rep.\"State_id\" IN (\n",
    "        SELECT \"State_id\"\n",
    "        FROM \"State_Abb\"\n",
    "        WHERE \"Code\"='NC'\n",
    "    )\n",
    "\"\"\"\n",
    "pd.read_sql_query(sql_query, con=engine).head()"
   ]
  },
  {
   "cell_type": "code",
   "execution_count": null,
   "metadata": {},
   "outputs": [],
   "source": [
    "sql_query = f\"\"\"\n",
    "    SELECT tec.\"Total_Consumed_million_Btu\", tep.\"Total_Production_trillion_Btu\"\n",
    "    FROM \"Total_Energy_Consumed\"  tec\n",
    "    INNER JOIN \"Total_Energy_Production\" tep\n",
    "    INNER JOIN \"Total_Energy_Production\" tep\n",
    "    ON tec.\"State_id\" = tep.\"State_id\"\n",
    "    WHERE tec.\"Rank\" > 10\n",
    "\"\"\""
   ]
  }
 ],
 "metadata": {
  "kernelspec": {
   "display_name": "Python [conda env:PythonData] *",
   "language": "python",
   "name": "conda-env-PythonData-py"
  },
  "language_info": {
   "codemirror_mode": {
    "name": "ipython",
    "version": 3
   },
   "file_extension": ".py",
   "mimetype": "text/x-python",
   "name": "python",
   "nbconvert_exporter": "python",
   "pygments_lexer": "ipython3",
   "version": "3.6.10"
  }
 },
 "nbformat": 4,
 "nbformat_minor": 4
}
